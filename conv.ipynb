{
 "cells": [
  {
   "cell_type": "markdown",
   "metadata": {},
   "source": [
    "# Import the Necessary Libraries"
   ]
  },
  {
   "cell_type": "code",
   "execution_count": 1,
   "metadata": {},
   "outputs": [],
   "source": [
    "import torch \n",
    "import torchvision\n",
    "import torchvision.transforms as transforms\n",
    "import numpy as np\n",
    "from torchsummary import summary # pip install torch-summary\n",
    "from tqdm import tqdm "
   ]
  },
  {
   "cell_type": "code",
   "execution_count": 2,
   "metadata": {},
   "outputs": [
    {
     "name": "stdout",
     "output_type": "stream",
     "text": [
      "Device:  cpu\n"
     ]
    }
   ],
   "source": [
    "device = 'cuda' if torch.cuda.is_available() else 'cpu'\n",
    "print(\"Device: \", device)"
   ]
  },
  {
   "cell_type": "code",
   "execution_count": 3,
   "metadata": {},
   "outputs": [],
   "source": [
    "seed = 42\n",
    "torch.manual_seed(seed)\n",
    "torch.cuda.manual_seed(seed)\n",
    "torch.backends.cudnn.deterministic = True"
   ]
  },
  {
   "cell_type": "markdown",
   "metadata": {},
   "source": [
    "# Download the CIFAR 10 Dataset"
   ]
  },
  {
   "cell_type": "code",
   "execution_count": 4,
   "metadata": {},
   "outputs": [
    {
     "name": "stdout",
     "output_type": "stream",
     "text": [
      "Files already downloaded and verified\n",
      "Files already downloaded and verified\n"
     ]
    }
   ],
   "source": [
    "# Get the training data and create a transform to ensure the data is made up of tensors\n",
    "# why are we not normalizing the data between 0 and 1?\n",
    "transform = transforms.Compose([transforms.ToTensor()])\n",
    "train_data = torchvision.datasets.CIFAR10(root='./data', train=True, download = True, transform=transform)\n",
    "\n",
    "# load the training data and transform it\n",
    "train_dataloader = torch.utils.data.DataLoader(train_data, batch_size=32, shuffle=True, num_workers=2)\n",
    "\n",
    "# Get the test data  \n",
    "test_data = torchvision.datasets.CIFAR10(root='./data', train=False, download = True, transform=transform)\n",
    "\n",
    "# Now load the test data with a batch size of 32: Do we need to shuffle the test data? \n",
    "test_dataloader = torch.utils.data.DataLoader(test_data, batch_size=32, shuffle=False, num_workers=2) #None # write your code here"
   ]
  },
  {
   "cell_type": "markdown",
   "metadata": {},
   "source": [
    "# Building the CNN Model"
   ]
  },
  {
   "cell_type": "code",
   "execution_count": 19,
   "metadata": {},
   "outputs": [
    {
     "name": "stdout",
     "output_type": "stream",
     "text": [
      "CNN(\n",
      "  (conv1): Conv2d(3, 32, kernel_size=(3, 3), stride=(1, 1))\n",
      "  (conv2): Conv2d(32, 32, kernel_size=(3, 3), stride=(1, 1))\n",
      "  (fc1): Linear(in_features=2048, out_features=256, bias=True)\n",
      "  (fc2): Linear(in_features=256, out_features=10, bias=True)\n",
      ")\n"
     ]
    }
   ],
   "source": [
    "class CNN(torch.nn.Module):\n",
    "\n",
    "    def __init__(self):\n",
    "        super(CNN, self).__init__()\n",
    "        # Create instance variables for the layers you will pass in the forward method\n",
    "        self.conv1 = torch.nn.Conv2d(in_channels=3, out_channels=32, kernel_size=3)\n",
    "        self.conv2 = torch.nn.Conv2d(in_channels=32, out_channels=32, kernel_size=3)\n",
    "        \n",
    "        # Define the fully connected (linear) layers\n",
    "        self.fc1 = torch.nn.Linear(32 * 8 * 8, 256)  # Assuming input image size is 32x32\n",
    "        self.fc2 = torch.nn.Linear(256, 10)  # Output size is 10 classes\n",
    "        \n",
    "    def forward(self, x):\n",
    "        # Apply first convolutional layer followed by ReLU activation and max pooling\n",
    "        x = torch.nn.functional.max_pool2d(torch.nn.functional.relu(self.conv1(x)), 2)\n",
    "        # Apply second convolutional layer followed by ReLU activation and max pooling\n",
    "        x = torch.nn.functional.max_pool2d(torch.nn.functional.relu(self.conv2(x)), 2)\n",
    "        \n",
    "        # Reshape the tensor for fully connected layers\n",
    "        x = x.view(-1, 32 * 8 * 8)  # Flatten the tensor\n",
    "        \n",
    "        # Apply fully connected layers with ReLU activation\n",
    "        x = torch.nn.functional.relu(self.fc1(x))\n",
    "        x = self.fc2(x)\n",
    "        return x\n",
    "    \n",
    "# Instantiate the model\n",
    "cnn_model = CNN()\n",
    "\n",
    "# summary(cnn_model)\n",
    "print(cnn_model)\n"
   ]
  },
  {
   "cell_type": "code",
   "execution_count": 25,
   "metadata": {},
   "outputs": [
    {
     "name": "stdout",
     "output_type": "stream",
     "text": [
      "CNN(\n",
      "  (conv1): Conv2d(3, 32, kernel_size=(4, 4), stride=(1, 1))\n",
      "  (conv2): Conv2d(32, 32, kernel_size=(3, 3), stride=(1, 1))\n",
      "  (conv3): Conv2d(32, 64, kernel_size=(3, 3), stride=(1, 1))\n",
      "  (conv4): Conv2d(64, 64, kernel_size=(3, 3), stride=(1, 1))\n",
      "  (fc1): Linear(in_features=4096, out_features=128, bias=True)\n",
      "  (dropout): Dropout(p=0.5, inplace=False)\n",
      "  (fc2): Linear(in_features=128, out_features=10, bias=True)\n",
      ")\n"
     ]
    }
   ],
   "source": [
    "import torch\n",
    "\n",
    "class CNN(torch.nn.Module):\n",
    "    def __init__(self):\n",
    "        super(CNN, self).__init__()\n",
    "        # Create instance variables for the layers you will pass in the forward method\n",
    "        self.conv1 = torch.nn.Conv2d(in_channels=3, out_channels=32, kernel_size=4)\n",
    "        self.conv2 = torch.nn.Conv2d(in_channels=32, out_channels=32, kernel_size=3)\n",
    "        self.conv3 = torch.nn.Conv2d(in_channels=32, out_channels=64, kernel_size=3)\n",
    "        self.conv4 = torch.nn.Conv2d(in_channels=64, out_channels=64, kernel_size=3)\n",
    "#         self.conv1 = torch.nn.Conv2d(in_channels=3, out_channels=32, kernel_size=4, stride=1, padding=1)\n",
    "#         self.conv2 = torch.nn.Conv2d(in_channels=32, out_channels=32, kernel_size=3, stride=2, padding=1)\n",
    "#         self.conv3 = torch.nn.Conv2d(in_channels=32, out_channels=64, kernel_size=3, stride=1, padding=1)\n",
    "#         self.conv4 = torch.nn.Conv2d(in_channels=64, out_channels=64, kernel_size=3, stride=2, padding=1)\n",
    "        \n",
    "        \n",
    "        # Define the fully connected (linear) layers\n",
    "        self.fc1 = torch.nn.Linear(64 * 8 * 8, 128)  # Input size based on output size of last convolutional layer\n",
    "        self.dropout = torch.nn.Dropout(0.5)\n",
    "        self.fc2 = torch.nn.Linear(128, 10)  # Output size is 10 classes\n",
    "\n",
    "    def forward(self, x):\n",
    "        # Apply first convolutional layer followed by batch normalization and leaky ReLU activation\n",
    "        x = torch.nn.functional.leaky_relu(torch.nn.BatchNorm2d(self.conv1(x)), negative_slope=0.01)\n",
    "        # Apply second convolutional layer followed by batch normalization and leaky ReLU activation\n",
    "        x = torch.nn.functional.leaky_relu(torch.nn.BatchNorm2d(self.conv2(x)), negative_slope=0.01)\n",
    "        # Apply third convolutional layer followed by batch normalization and leaky ReLU activation\n",
    "        x = torch.nn.functional.leaky_relu(torch.nn.BatchNorm2d(self.conv3(x)), negative_slope=0.01)\n",
    "        # Apply fourth convolutional layer followed by batch normalization and leaky ReLU activation\n",
    "        x = torch.nn.functional.leaky_relu(torch.nn.BatchNorm2d(self.conv4(x)), negative_slope=0.01)\n",
    "        # Reshape the tensor for fully connected layers\n",
    "        x = x.view(-1, 64 * 8 * 8)  # Flatten the tensor\n",
    "        # Apply fully connected layers with ReLU activation\n",
    "        x = torch.nn.functional.leaky_relu(torch.nn.BatchNorm1d(self.fc1(x)), negative_slope=0.01)\n",
    "        x = self.dropout(x)\n",
    "        # Apply the final fully connected layer without activation function\n",
    "        x = self.fc2(x)\n",
    "        return x\n",
    "\n",
    "# Instantiate the model\n",
    "cnn_model = CNN()\n",
    "\n",
    "print(cnn_model)\n"
   ]
  },
  {
   "cell_type": "code",
   "execution_count": 59,
   "metadata": {},
   "outputs": [],
   "source": [
    "import math\n",
    "\n",
    "# Calculate the output size of a convolutional layer with \"same\" padding\n",
    "def calculate_output_size(input_size, kernel_size, stride, padding):\n",
    "    return math.floor((input_size + 2 * padding - kernel_size) / stride) + 1\n",
    "\n",
    "# Function to calculate the padding required to maintain the input size\n",
    "def calculate_same_padding(input_size, kernel_size, stride):\n",
    "    # Formula to calculate the padding\n",
    "    padding = ((input_size - 1) * stride + kernel_size - input_size) // 2\n",
    "    return padding\n",
    "\n",
    "class CNN(torch.nn.Module):\n",
    "\n",
    "    def __init__(self):\n",
    "        super(CNN, self).__init__()\n",
    "        # Create instance variables for the layers you will pass in the forward method\n",
    "        # write your code below and ensure your padding is correct and well calculated\n",
    "        import math\n",
    "        \n",
    "        # calculating the padding\n",
    "        def calculate_padding(input_size, kernel_size, stride, output_size):\n",
    "            padding = ((output_size - 1) * stride - input_size + kernel_size) / 2\n",
    "            return math.floor(padding)\n",
    "        \n",
    "        padding_number = 1\n",
    "        \n",
    "        self.convLayer1 = torch.nn.Conv2d(in_channels=3, out_channels=32, kernel_size=4, stride=1, padding=padding_number)\n",
    "        self.bn1 = torch.nn.BatchNorm2d(32)\n",
    "        self.convLayer2 = torch.nn.Conv2d(in_channels=32, out_channels=32, kernel_size=3, stride=2, padding=padding_number)\n",
    "        self.bn2 = torch.nn.BatchNorm2d(32)\n",
    "        \n",
    "        self.convLayer3 = torch.nn.Conv2d(in_channels=32, out_channels=64, kernel_size=3, stride=1, padding=padding_number)\n",
    "        self.bn3 = torch.nn.BatchNorm2d(64)\n",
    "        \n",
    "        self.convLayer4 = torch.nn.Conv2d(in_channels=64, out_channels=64, kernel_size=3, stride=2, padding=padding_number)\n",
    "        self.bn4 = torch.nn.BatchNorm2d(64)\n",
    "        \n",
    "        # Calculate the output size of the last convolutional layer\n",
    "        last_conv_output_size = calculate_output_size(32, 4, 1, padding_number)  # Assuming input size 32x32\n",
    "        last_conv_output_size = calculate_output_size(last_conv_output_size, 3, 2, padding_number)\n",
    "        last_conv_output_size = calculate_output_size(last_conv_output_size, 3, 1, padding_number)\n",
    "        last_conv_output_size = calculate_output_size(last_conv_output_size, 3, 2, padding_number)\n",
    "        \n",
    "        \n",
    "        self.fclayer1 = torch.nn.Linear(64 * last_conv_output_size * last_conv_output_size, 128) # This dimension depends on the input image size and conv layers 32 * 8 * 8 \n",
    "        self.bn5 = torch.nn.BatchNorm1d(128)\n",
    "        \n",
    "        self.fclayer2 = torch.nn.Linear(128 , 10) \n",
    "        \n",
    "        \n",
    "    def forward(self, x):\n",
    "        # complete your forward method\n",
    "        x=torch.nn.functional.leaky_relu(self.bn1(self.convLayer1(x)))\n",
    "        x=torch.nn.functional.leaky_relu(self.bn2(self.convLayer2(x)))\n",
    "        \n",
    "        x=torch.nn.functional.leaky_relu(self.bn3(self.convLayer3(x)))\n",
    "        x=torch.nn.functional.leaky_relu(self.bn4(self.convLayer4(x)))\n",
    "        \n",
    "        x = x.view(x.size(0), -1)\n",
    "        # x=x.view(64 * 64 * 64, -1) # Flatten layer  x.size(0),   (3 *8)\n",
    "        \n",
    "        x=torch.nn.functional.leaky_relu(self.bn5(self.fclayer1(x)))\n",
    "        \n",
    "        x=torch.nn.functional.dropout(x,p=.5) \n",
    "         \n",
    "        x=self.fclayer2(x)\n",
    "\n",
    "        return torch.nn.functional.log_softmax(x, dim=-1) \n",
    "    \n",
    "cnn_model = CNN()\n",
    "# summary(cnn_model, torch.zeros(1, 3, 32, 32))\n"
   ]
  },
  {
   "cell_type": "code",
   "execution_count": 68,
   "metadata": {},
   "outputs": [],
   "source": [
    "# Create the CNN model class\n",
    "class CNN(torch.nn.Module):\n",
    "    def __init__(self):\n",
    "        super(CNN, self).__init__()\n",
    "        # Define the layers\n",
    "        self.conv1 = torch.nn.Conv2d(in_channels=3, out_channels=32, kernel_size=4, stride=1,\n",
    "                                      padding=calculate_same_padding(32, 4, 1))\n",
    "        self.bn1 = torch.nn.BatchNorm2d(32)\n",
    "        self.conv2 = torch.nn.Conv2d(in_channels=32, out_channels=32, kernel_size=3, stride=2,\n",
    "                                      padding=calculate_same_padding(32, 3, 2))\n",
    "        self.bn2 = torch.nn.BatchNorm2d(32)\n",
    "        self.conv3 = torch.nn.Conv2d(in_channels=32, out_channels=64, kernel_size=3, stride=1,\n",
    "                                      padding=calculate_same_padding(32, 3, 1))\n",
    "        self.bn3 = torch.nn.BatchNorm2d(64)\n",
    "        self.conv4 = torch.nn.Conv2d(in_channels=64, out_channels=64, kernel_size=3, stride=2,\n",
    "                                      padding=calculate_same_padding(64, 3, 2))\n",
    "        self.bn4 = torch.nn.BatchNorm2d(64)\n",
    "        \n",
    "        # Calculate shape after convolutions\n",
    "        test_tensor = torch.zeros(1, 3, 32, 32)\n",
    "        test_tensor = self.conv1(test_tensor)\n",
    "        test_tensor = self.conv2(test_tensor)\n",
    "        test_tensor = self.conv3(test_tensor)\n",
    "        test_tensor = self.conv4(test_tensor)\n",
    "        self.flattened_size = test_tensor.shape[1] * test_tensor.shape[2] * test_tensor.shape[3]\n",
    "        \n",
    "        # Define dense layers\n",
    "        self.fc1 = torch.nn.Linear(self.flattened_size, 128)\n",
    "        self.bn5 = torch.nn.BatchNorm1d(128)\n",
    "        self.fc2 = torch.nn.Linear(128, 10)\n",
    "        self.dropout = torch.nn.Dropout(0.5)\n",
    "\n",
    "    def forward(self, x):\n",
    "        # Apply layers with activation functions\n",
    "        x = torch.nn.functional.leaky_relu(self.bn1(self.conv1(x)))\n",
    "        x = torch.nn.functional.leaky_relu(self.bn2(self.conv2(x)))\n",
    "        x = torch.nn.functional.leaky_relu(self.bn3(self.conv3(x)))\n",
    "        x = torch.nn.functional.leaky_relu(self.bn4(self.conv4(x)))\n",
    "        \n",
    "        # Flatten the tensor for the dense layers\n",
    "        x = x.view(x.size(0), -1)\n",
    "        \n",
    "        x = torch.nn.functional.leaky_relu(self.bn5(self.fc1(x)))\n",
    "        x = self.dropout(x)\n",
    "        x = self.fc2(x)\n",
    "        \n",
    "        # Apply softmax activation function\n",
    "        return torch.nn.functional.softmax(x, dim=-1)\n",
    "\n",
    "# Initialize the CNN model\n",
    "cnn_model = CNN()\n"
   ]
  },
  {
   "cell_type": "markdown",
   "metadata": {},
   "source": [
    "# Set the Loss Function and Optimizer"
   ]
  },
  {
   "cell_type": "code",
   "execution_count": 69,
   "metadata": {},
   "outputs": [],
   "source": [
    "criterion = torch.nn.CrossEntropyLoss()\n",
    "optimizer = torch.optim.Adam(cnn_model.parameters(), lr=0.0005)"
   ]
  },
  {
   "cell_type": "markdown",
   "metadata": {},
   "source": [
    "# Write the Train Function"
   ]
  },
  {
   "cell_type": "code",
   "execution_count": null,
   "metadata": {},
   "outputs": [],
   "source": [
    "def train(dataloader, model, criterion, optimizer):\n",
    "    model.train()\n",
    "    batch_bar = tqdm(total=len(dataloader), position=0, leave=False, dynamic_ncols=True, desc='Train')\n",
    "    total_loss = 0\n",
    "    total_accuracy = 0\n",
    "\n",
    "    for i, (imgs, labels) in enumerate(dataloader):\n",
    "        # write your code below for the train function \n",
    "        # Forward pass\n",
    "        outputs = model(imgs)\n",
    "        loss = criterion(outputs, labels)\n",
    "\n",
    "        # Backward pass and optimization\n",
    "        optimizer.zero_grad()\n",
    "        loss.backward()\n",
    "        optimizer.step()\n",
    "\n",
    "        # Compute accuracy\n",
    "        _, predicted = torch.max(outputs, 1)\n",
    "        correct = (predicted == labels).sum().item()\n",
    "        accuracy = correct / labels.size(0)\n",
    "\n",
    "        # Update total loss and accuracy\n",
    "        total_loss += loss.item()\n",
    "        total_accuracy += correct\n",
    "\n",
    "        # Update the progress bar\n",
    "        batch_bar.update()\n",
    "    batch_bar.close()\n",
    "    \n",
    "    return total_loss/len(dataloader), 100*total_accuracy/(len(dataloader)*32)"
   ]
  },
  {
   "cell_type": "markdown",
   "metadata": {},
   "source": [
    "# Write the Evaluate Function to get the Test Accuracy"
   ]
  },
  {
   "cell_type": "code",
   "execution_count": 47,
   "metadata": {},
   "outputs": [],
   "source": [
    "def evaluate(dataloader, model):\n",
    "    model.eval()\n",
    "    # write your code for the evaluate function\n",
    "    #raise NotImplemented\n",
    "    model.eval()  # Set the model to evaluation mode\n",
    "    total_loss = 0\n",
    "    total_correct = 0\n",
    "    total_samples = 0\n",
    "\n",
    "    with torch.no_grad():  # Disable gradient tracking during evaluation\n",
    "        for imgs, labels in dataloader:\n",
    "            # Forward pass\n",
    "            outputs = model(imgs)\n",
    "            \n",
    "            # Compute loss\n",
    "            loss = criterion(outputs, labels)\n",
    "            \n",
    "            # Compute the number of correct predictions\n",
    "            _, predicted = torch.max(outputs, 1)\n",
    "            total_correct += (predicted == labels).sum().item()\n",
    "            \n",
    "            # Update total loss and total samples\n",
    "            total_loss += loss.item()\n",
    "            total_samples += labels.size(0)\n",
    "\n",
    "    # Calculate average loss and accuracy\n",
    "    avg_loss = total_loss / len(dataloader)\n",
    "    accuracy = total_correct / total_samples\n",
    "\n",
    "    return avg_loss, accuracy"
   ]
  },
  {
   "cell_type": "markdown",
   "metadata": {},
   "source": [
    "# Train the CNN Model"
   ]
  },
  {
   "cell_type": "code",
   "execution_count": 70,
   "metadata": {
    "scrolled": false
   },
   "outputs": [
    {
     "name": "stderr",
     "output_type": "stream",
     "text": [
      "                                                                                                                       "
     ]
    },
    {
     "name": "stdout",
     "output_type": "stream",
     "text": [
      "Epoch 1/10 - Train Loss: 1.9901 - Train Accuracy: 49.7541\n"
     ]
    },
    {
     "name": "stderr",
     "output_type": "stream",
     "text": [
      "\r"
     ]
    }
   ],
   "source": [
    "for epoch in range(0, 1):\n",
    "    train_loss, train_acc = train(train_dataloader, cnn_model, criterion, optimizer)\n",
    "    print(f\"Epoch {epoch+1}/{10} - Train Loss: {train_loss:.4f} - Train Accuracy: {train_acc:.4f}\")"
   ]
  },
  {
   "cell_type": "markdown",
   "metadata": {},
   "source": [
    "# Get the Test Accuracy"
   ]
  },
  {
   "cell_type": "code",
   "execution_count": null,
   "metadata": {},
   "outputs": [],
   "source": [
    "test_acc = evaluate(test_dataloader, cnn_model)\n",
    "# test_accm\n",
    "test_acc"
   ]
  },
  {
   "cell_type": "code",
   "execution_count": null,
   "metadata": {},
   "outputs": [],
   "source": []
  }
 ],
 "metadata": {
  "kernelspec": {
   "display_name": "Python 3 (ipykernel)",
   "language": "python",
   "name": "python3"
  },
  "language_info": {
   "codemirror_mode": {
    "name": "ipython",
    "version": 3
   },
   "file_extension": ".py",
   "mimetype": "text/x-python",
   "name": "python",
   "nbconvert_exporter": "python",
   "pygments_lexer": "ipython3",
   "version": "3.11.7"
  }
 },
 "nbformat": 4,
 "nbformat_minor": 2
}
